{
 "cells": [
  {
   "cell_type": "markdown",
   "id": "271a22ab-b554-487c-b11c-b776634fee28",
   "metadata": {},
   "source": [
    "# Data Science Tools and Ecosystem"
   ]
  },
  {
   "cell_type": "markdown",
   "id": "f312b88d-0685-4960-b96f-4945a79af7be",
   "metadata": {},
   "source": [
    "In this notebook, Data Science Tools and Ecosystem are summarized."
   ]
  },
  {
   "cell_type": "markdown",
   "id": "eabf1aad-e4d6-4b25-bb38-004321ebf87d",
   "metadata": {},
   "source": [
    "Some of the popular languages that Data Scientists use are:\n",
    "1. Python\n",
    "2. R\n",
    "3. SQL"
   ]
  },
  {
   "cell_type": "markdown",
   "id": "3121730c-4666-40d7-adca-0a3e3719ae1c",
   "metadata": {},
   "source": [
    "Some of the commonly used libraries used by Data Scientists include:\n",
    "1. Numpy\n",
    "2. Pandas\n",
    "3. Seaborn\n"
   ]
  },
  {
   "cell_type": "markdown",
   "id": "eb03f3e3-b850-42cc-927a-d76eb7e4c46a",
   "metadata": {},
   "source": [
    "|Data Science Tools|\n",
    "| -- | \n",
    "| MongoDB | \n",
    "| Apache SparkSQL | \n",
    "| TensorFlow| \n"
   ]
  },
  {
   "cell_type": "markdown",
   "id": "8f0286cf-6b8e-43f6-aa40-4897ba0548c3",
   "metadata": {},
   "source": [
    "### Below are a few examples of evaluating arithmetic expressions in Python"
   ]
  },
  {
   "cell_type": "code",
   "execution_count": 2,
   "id": "2cccfa73-69f4-403c-b7b1-71de895bbd45",
   "metadata": {},
   "outputs": [
    {
     "data": {
      "text/plain": [
       "17"
      ]
     },
     "execution_count": 2,
     "metadata": {},
     "output_type": "execute_result"
    }
   ],
   "source": [
    "#This a simple arithmetic expression to mutiply then add integers\n",
    "(3*4)+5"
   ]
  },
  {
   "cell_type": "code",
   "execution_count": 3,
   "id": "207d3780-639d-4505-8974-c1753d5e5469",
   "metadata": {},
   "outputs": [
    {
     "data": {
      "text/plain": [
       "3.3333333333333335"
      ]
     },
     "execution_count": 3,
     "metadata": {},
     "output_type": "execute_result"
    }
   ],
   "source": [
    "## This will convert 200 minutes to hours by diving by 60\n",
    "200/60"
   ]
  },
  {
   "cell_type": "markdown",
   "id": "31f4a096-293c-486c-a257-04f8b8abceea",
   "metadata": {},
   "source": [
    "**Objectives:**\n",
    "- Python\n",
    "- SQL\n",
    "- R"
   ]
  },
  {
   "cell_type": "markdown",
   "id": "c1f36aeb-3949-4813-bd0a-77a0b2e14025",
   "metadata": {},
   "source": [
    "## Author\n",
    "Ashley "
   ]
  },
  {
   "cell_type": "code",
   "execution_count": null,
   "id": "89b73441-b0c8-4fab-a81e-7f4051bd81f7",
   "metadata": {},
   "outputs": [],
   "source": []
  }
 ],
 "metadata": {
  "kernelspec": {
   "display_name": "Python [conda env:base] *",
   "language": "python",
   "name": "conda-base-py"
  },
  "language_info": {
   "codemirror_mode": {
    "name": "ipython",
    "version": 3
   },
   "file_extension": ".py",
   "mimetype": "text/x-python",
   "name": "python",
   "nbconvert_exporter": "python",
   "pygments_lexer": "ipython3",
   "version": "3.13.5"
  }
 },
 "nbformat": 4,
 "nbformat_minor": 5
}
